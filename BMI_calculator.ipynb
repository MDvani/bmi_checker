{
 "cells": [
  {
   "cell_type": "code",
   "execution_count": 4,
   "id": "7f6b217a-da9a-4715-afb2-66bd8daf7e91",
   "metadata": {},
   "outputs": [
    {
     "name": "stdin",
     "output_type": "stream",
     "text": [
      "enter weight in kg:  50\n",
      "enter height in meters:  1.60\n"
     ]
    },
    {
     "name": "stdout",
     "output_type": "stream",
     "text": [
      "your bmi is 19.53 and you are normal weight.\n"
     ]
    }
   ],
   "source": [
    "#BMI(Body mass index)\n",
    "weight = float(input(\"enter weight in kg: \"))\n",
    "height = float(input(\"enter height in meters: \")) \n",
    "bmi = round((weight/height**2),2)\n",
    "if bmi<18.5:\n",
    "    print(f\"your bmi is {bmi} and you are underweight.\") \n",
    "elif bmi<25:\n",
    "    print(f\"your bmi is {bmi} and you are normal weight.\") \n",
    "elif bmi<30:\n",
    "    print(f\"your bmi is {bmi} and you are over weight.\") \n",
    "elif bmi<35:\n",
    "    print(f\"your bmi is {bmi} and you are obese.\") \n",
    "else:\n",
    "    print(f\"your bmi is {bmi} and you are clinically obese.\")\n",
    "\n",
    "    "
   ]
  },
  {
   "cell_type": "code",
   "execution_count": null,
   "id": "c2640001-9d8a-4c9d-bb33-e8a6845c70b3",
   "metadata": {},
   "outputs": [],
   "source": []
  }
 ],
 "metadata": {
  "kernelspec": {
   "display_name": "Python 3 (ipykernel)",
   "language": "python",
   "name": "python3"
  },
  "language_info": {
   "codemirror_mode": {
    "name": "ipython",
    "version": 3
   },
   "file_extension": ".py",
   "mimetype": "text/x-python",
   "name": "python",
   "nbconvert_exporter": "python",
   "pygments_lexer": "ipython3",
   "version": "3.13.3"
  }
 },
 "nbformat": 4,
 "nbformat_minor": 5
}
